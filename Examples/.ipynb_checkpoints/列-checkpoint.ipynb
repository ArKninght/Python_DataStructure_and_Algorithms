{
 "cells": [
  {
   "cell_type": "markdown",
   "id": "bd79abc1",
   "metadata": {},
   "source": [
    "前进后出"
   ]
  },
  {
   "cell_type": "code",
   "execution_count": 1,
   "id": "b6b7f31c",
   "metadata": {},
   "outputs": [],
   "source": [
    "from pythonds.basic import Queue"
   ]
  },
  {
   "cell_type": "code",
   "execution_count": 2,
   "id": "8d7210e2",
   "metadata": {},
   "outputs": [],
   "source": [
    "# 传递热土豆\n",
    "# 进行循环，最后拿着热土豆的人被淘汰，直至队伍中只剩下一人\n",
    "def hotPotato(namelist, num):\n",
    "    queue = Queue() # 队列实例化\n",
    "    for name in namelist:\n",
    "        queue.enqueue(name) # 将名字压入队列，认为队伍中的最后一个人拿着花\n",
    "    while queue.size()>1:  # 循环直至队列中只剩下一人\n",
    "        for i in range(num):  # 循环num次\n",
    "            temp = queue.dequeue()\n",
    "            queue.enqueue(temp)   # 将队尾的人去除，添加到队首\n",
    "        queue.dequeue()  # 循环num次后将队尾的人去除\n",
    "    # 队伍中只剩一人，退出循环，输出最终赢家\n",
    "    return queue.dequeue()"
   ]
  },
  {
   "cell_type": "code",
   "execution_count": 3,
   "id": "657f1cca",
   "metadata": {},
   "outputs": [
    {
     "data": {
      "text/plain": [
       "'666'"
      ]
     },
     "execution_count": 3,
     "metadata": {},
     "output_type": "execute_result"
    }
   ],
   "source": [
    "namelist = [\"111\",\"2222\",\"3333\",\"4444\",\"5\",\"7\",\"666\"]\n",
    "num = 8\n",
    "name = hotPotato(namelist, num)\n",
    "name"
   ]
  },
  {
   "cell_type": "code",
   "execution_count": null,
   "id": "ef095aa5",
   "metadata": {},
   "outputs": [],
   "source": []
  }
 ],
 "metadata": {
  "kernelspec": {
   "display_name": "Python 3 (ipykernel)",
   "language": "python",
   "name": "python3"
  },
  "language_info": {
   "codemirror_mode": {
    "name": "ipython",
    "version": 3
   },
   "file_extension": ".py",
   "mimetype": "text/x-python",
   "name": "python",
   "nbconvert_exporter": "python",
   "pygments_lexer": "ipython3",
   "version": "3.9.13"
  }
 },
 "nbformat": 4,
 "nbformat_minor": 5
}
