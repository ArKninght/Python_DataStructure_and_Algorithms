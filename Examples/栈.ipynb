{
 "cells": [
  {
   "cell_type": "markdown",
   "id": "5ea6c0d6",
   "metadata": {},
   "source": [
    "栈 线性数据结构  \n",
    "先进栈的后出，后进栈的先出"
   ]
  },
  {
   "cell_type": "code",
   "execution_count": 11,
   "id": "2d4924c3",
   "metadata": {},
   "outputs": [],
   "source": [
    "# 实现栈\n",
    "class Stack:\n",
    "    # 类初始化\n",
    "    def __init__(self):\n",
    "        self.items = []\n",
    "    # 判断栈是否为空\n",
    "    def isEmpty(self):\n",
    "        return self.items == []\n",
    "    # 入栈，使用列表的append方法\n",
    "    def push(self,item):\n",
    "        self.items.append(item)\n",
    "    # 出栈，使用pop方法，并返回出栈的对象\n",
    "    def pull(self):\n",
    "        return self.items.pop()\n",
    "    # 返回栈顶函数\n",
    "    def peek(self):\n",
    "        return self.items[len(self.items)-1]\n",
    "    # 返回栈的大小\n",
    "    def size(self):\n",
    "        return len(self.items)"
   ]
  },
  {
   "cell_type": "code",
   "execution_count": 27,
   "id": "b2d3b98f",
   "metadata": {},
   "outputs": [
    {
     "data": {
      "text/plain": [
       "True"
      ]
     },
     "execution_count": 27,
     "metadata": {},
     "output_type": "execute_result"
    }
   ],
   "source": [
    "a = Stack()\n",
    "a.isEmpty()"
   ]
  },
  {
   "cell_type": "code",
   "execution_count": 29,
   "id": "38908f1b",
   "metadata": {},
   "outputs": [],
   "source": [
    "# 括号匹配\n",
    "def parChecker(str):\n",
    "    # 将栈实例化\n",
    "    stack = Stack()\n",
    "    # 对string进行遍历，对“（”，将其压入堆栈，对“）”，从堆栈中去除一个“（”\n",
    "    # 当需要去除时，堆栈为空，则括号不匹配\n",
    "    index = 0 # 索引，用于遍历字符串\n",
    "    balance = True  # 标志，用于记录括号是否匹配\n",
    "    \n",
    "    while index<len(str) and balance:\n",
    "        symbol = str[index]\n",
    "        if symbol == '(':\n",
    "            stack.push(symbol)\n",
    "        elif symbol == ')':\n",
    "            if stack.isEmpty():\n",
    "                balance = False\n",
    "            else:\n",
    "                stack.pull()\n",
    "        index += 1\n",
    "    if balance and stack.isEmpty():\n",
    "        return True\n",
    "    else:\n",
    "        return False"
   ]
  },
  {
   "cell_type": "code",
   "execution_count": 30,
   "id": "eec5f4d0",
   "metadata": {},
   "outputs": [
    {
     "data": {
      "text/plain": [
       "True"
      ]
     },
     "execution_count": 30,
     "metadata": {},
     "output_type": "execute_result"
    }
   ],
   "source": [
    "judge = parChecker('((()))')\n",
    "judge"
   ]
  },
  {
   "cell_type": "code",
   "execution_count": null,
   "id": "f9d78f72",
   "metadata": {},
   "outputs": [],
   "source": []
  }
 ],
 "metadata": {
  "kernelspec": {
   "display_name": "Python 3 (ipykernel)",
   "language": "python",
   "name": "python3"
  },
  "language_info": {
   "codemirror_mode": {
    "name": "ipython",
    "version": 3
   },
   "file_extension": ".py",
   "mimetype": "text/x-python",
   "name": "python",
   "nbconvert_exporter": "python",
   "pygments_lexer": "ipython3",
   "version": "3.9.13"
  }
 },
 "nbformat": 4,
 "nbformat_minor": 5
}
